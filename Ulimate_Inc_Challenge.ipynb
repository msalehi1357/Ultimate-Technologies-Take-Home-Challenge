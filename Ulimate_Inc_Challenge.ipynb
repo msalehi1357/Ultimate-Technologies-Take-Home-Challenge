{
 "cells": [
  {
   "cell_type": "markdown",
   "id": "281bd31b",
   "metadata": {},
   "source": [
    "## Data Analysis Interview Challenge\n",
    "### Part 1 ‑ Exploratory data analysis\n",
    "\n",
    "Task: \n",
    "Aggregate these login counts based on 15 minute time intervals, and visualize and describe the resulting time series of login counts in ways that best characterize the underlying patterns of the demand. Please report/illustrate important features of the demand, such as daily cycles. If there are data quality issues, please report them.\n",
    "\n",
    "This log data contains (simulated) timestamps of user logins to a platform in a particular geographic location."
   ]
  },
  {
   "cell_type": "code",
   "execution_count": 1,
   "id": "b5098cc6",
   "metadata": {},
   "outputs": [],
   "source": [
    "import numpy as np\n",
    "import pandas as pd\n",
    "import seaborn as sns\n",
    "import matplotlib as plt\n",
    "import json\n",
    "%matplotlib inline\n",
    "import pickle\n",
    "# data viz imports\n",
    "import matplotlib.pyplot as plt\n",
    "plt.style.use('tableau-colorblind10')\n",
    "import seaborn as sns\n",
    "# time-series imports\n",
    "from datetime import datetime\n",
    "# imports for xgboost\n",
    "from sklearn.metrics import accuracy_score, mean_squared_error\n",
    "from sklearn.model_selection import train_test_split\n",
    "from xgboost import XGBClassifier, cv, plot_importance\n",
    "\n",
    "from sklearn.model_selection import RandomizedSearchCV\n",
    "\n",
    "import warnings # For handling error messages. \n",
    "warnings.simplefilter(action=\"ignore\", category=FutureWarning)\n",
    "warnings.filterwarnings(action=\"ignore\", module=\"scipy\", message=\"^internal gelsd\")"
   ]
  },
  {
   "cell_type": "code",
   "execution_count": 2,
   "id": "b43bb773",
   "metadata": {},
   "outputs": [],
   "source": [
    "# load data as a data frame\n",
    "logins = pd.read_json(\"logins.json\")"
   ]
  },
  {
   "cell_type": "code",
   "execution_count": 3,
   "id": "8e854867",
   "metadata": {},
   "outputs": [
    {
     "data": {
      "text/html": [
       "<div>\n",
       "<style scoped>\n",
       "    .dataframe tbody tr th:only-of-type {\n",
       "        vertical-align: middle;\n",
       "    }\n",
       "\n",
       "    .dataframe tbody tr th {\n",
       "        vertical-align: top;\n",
       "    }\n",
       "\n",
       "    .dataframe thead th {\n",
       "        text-align: right;\n",
       "    }\n",
       "</style>\n",
       "<table border=\"1\" class=\"dataframe\">\n",
       "  <thead>\n",
       "    <tr style=\"text-align: right;\">\n",
       "      <th></th>\n",
       "      <th>login_time</th>\n",
       "    </tr>\n",
       "  </thead>\n",
       "  <tbody>\n",
       "    <tr>\n",
       "      <th>0</th>\n",
       "      <td>1970-01-01 20:13:18</td>\n",
       "    </tr>\n",
       "    <tr>\n",
       "      <th>1</th>\n",
       "      <td>1970-01-01 20:16:10</td>\n",
       "    </tr>\n",
       "    <tr>\n",
       "      <th>2</th>\n",
       "      <td>1970-01-01 20:16:37</td>\n",
       "    </tr>\n",
       "    <tr>\n",
       "      <th>3</th>\n",
       "      <td>1970-01-01 20:16:36</td>\n",
       "    </tr>\n",
       "    <tr>\n",
       "      <th>4</th>\n",
       "      <td>1970-01-01 20:26:21</td>\n",
       "    </tr>\n",
       "    <tr>\n",
       "      <th>5</th>\n",
       "      <td>1970-01-01 20:21:41</td>\n",
       "    </tr>\n",
       "    <tr>\n",
       "      <th>6</th>\n",
       "      <td>1970-01-01 20:12:16</td>\n",
       "    </tr>\n",
       "    <tr>\n",
       "      <th>7</th>\n",
       "      <td>1970-01-01 20:35:47</td>\n",
       "    </tr>\n",
       "    <tr>\n",
       "      <th>8</th>\n",
       "      <td>1970-01-01 20:35:38</td>\n",
       "    </tr>\n",
       "    <tr>\n",
       "      <th>9</th>\n",
       "      <td>1970-01-01 20:47:52</td>\n",
       "    </tr>\n",
       "  </tbody>\n",
       "</table>\n",
       "</div>"
      ],
      "text/plain": [
       "           login_time\n",
       "0 1970-01-01 20:13:18\n",
       "1 1970-01-01 20:16:10\n",
       "2 1970-01-01 20:16:37\n",
       "3 1970-01-01 20:16:36\n",
       "4 1970-01-01 20:26:21\n",
       "5 1970-01-01 20:21:41\n",
       "6 1970-01-01 20:12:16\n",
       "7 1970-01-01 20:35:47\n",
       "8 1970-01-01 20:35:38\n",
       "9 1970-01-01 20:47:52"
      ]
     },
     "execution_count": 3,
     "metadata": {},
     "output_type": "execute_result"
    }
   ],
   "source": [
    "logins.head(10)  # YY-MM-DD HH:MM:SS"
   ]
  },
  {
   "cell_type": "code",
   "execution_count": 4,
   "id": "abca6408",
   "metadata": {
    "scrolled": true
   },
   "outputs": [
    {
     "data": {
      "text/html": [
       "<div>\n",
       "<style scoped>\n",
       "    .dataframe tbody tr th:only-of-type {\n",
       "        vertical-align: middle;\n",
       "    }\n",
       "\n",
       "    .dataframe tbody tr th {\n",
       "        vertical-align: top;\n",
       "    }\n",
       "\n",
       "    .dataframe thead th {\n",
       "        text-align: right;\n",
       "    }\n",
       "</style>\n",
       "<table border=\"1\" class=\"dataframe\">\n",
       "  <thead>\n",
       "    <tr style=\"text-align: right;\">\n",
       "      <th></th>\n",
       "      <th>login_time</th>\n",
       "    </tr>\n",
       "  </thead>\n",
       "  <tbody>\n",
       "    <tr>\n",
       "      <th>93132</th>\n",
       "      <td>1970-04-13 18:36:53</td>\n",
       "    </tr>\n",
       "    <tr>\n",
       "      <th>93133</th>\n",
       "      <td>1970-04-13 18:40:31</td>\n",
       "    </tr>\n",
       "    <tr>\n",
       "      <th>93134</th>\n",
       "      <td>1970-04-13 18:46:06</td>\n",
       "    </tr>\n",
       "    <tr>\n",
       "      <th>93135</th>\n",
       "      <td>1970-04-13 18:40:40</td>\n",
       "    </tr>\n",
       "    <tr>\n",
       "      <th>93136</th>\n",
       "      <td>1970-04-13 18:48:52</td>\n",
       "    </tr>\n",
       "    <tr>\n",
       "      <th>93137</th>\n",
       "      <td>1970-04-13 18:50:19</td>\n",
       "    </tr>\n",
       "    <tr>\n",
       "      <th>93138</th>\n",
       "      <td>1970-04-13 18:43:56</td>\n",
       "    </tr>\n",
       "    <tr>\n",
       "      <th>93139</th>\n",
       "      <td>1970-04-13 18:54:02</td>\n",
       "    </tr>\n",
       "    <tr>\n",
       "      <th>93140</th>\n",
       "      <td>1970-04-13 18:57:38</td>\n",
       "    </tr>\n",
       "    <tr>\n",
       "      <th>93141</th>\n",
       "      <td>1970-04-13 18:54:23</td>\n",
       "    </tr>\n",
       "  </tbody>\n",
       "</table>\n",
       "</div>"
      ],
      "text/plain": [
       "               login_time\n",
       "93132 1970-04-13 18:36:53\n",
       "93133 1970-04-13 18:40:31\n",
       "93134 1970-04-13 18:46:06\n",
       "93135 1970-04-13 18:40:40\n",
       "93136 1970-04-13 18:48:52\n",
       "93137 1970-04-13 18:50:19\n",
       "93138 1970-04-13 18:43:56\n",
       "93139 1970-04-13 18:54:02\n",
       "93140 1970-04-13 18:57:38\n",
       "93141 1970-04-13 18:54:23"
      ]
     },
     "execution_count": 4,
     "metadata": {},
     "output_type": "execute_result"
    }
   ],
   "source": [
    "logins.tail(10)"
   ]
  },
  {
   "cell_type": "markdown",
   "id": "8294392d",
   "metadata": {},
   "source": [
    "##### The data spans over a period of 4 months, starting January 1st 1970 till April 13th, 1970. "
   ]
  },
  {
   "cell_type": "code",
   "execution_count": 5,
   "id": "f263dca6",
   "metadata": {},
   "outputs": [
    {
     "name": "stdout",
     "output_type": "stream",
     "text": [
      "<class 'pandas.core.frame.DataFrame'>\n",
      "RangeIndex: 93142 entries, 0 to 93141\n",
      "Data columns (total 1 columns):\n",
      " #   Column      Non-Null Count  Dtype         \n",
      "---  ------      --------------  -----         \n",
      " 0   login_time  93142 non-null  datetime64[ns]\n",
      "dtypes: datetime64[ns](1)\n",
      "memory usage: 727.8 KB\n"
     ]
    }
   ],
   "source": [
    "logins.info()"
   ]
  },
  {
   "cell_type": "markdown",
   "id": "096ac95c",
   "metadata": {},
   "source": [
    "###### There are 93142 non-null loginds with type datetime64 "
   ]
  },
  {
   "cell_type": "code",
   "execution_count": 6,
   "id": "e116a387",
   "metadata": {
    "scrolled": true
   },
   "outputs": [
    {
     "data": {
      "text/plain": [
       "login_time    0\n",
       "dtype: int64"
      ]
     },
     "execution_count": 6,
     "metadata": {},
     "output_type": "execute_result"
    }
   ],
   "source": [
    "logins.isnull().sum()"
   ]
  },
  {
   "cell_type": "markdown",
   "id": "5a343b51",
   "metadata": {},
   "source": [
    "###### No missing values"
   ]
  },
  {
   "cell_type": "code",
   "execution_count": 7,
   "id": "f9ef8c63",
   "metadata": {},
   "outputs": [],
   "source": [
    "# Resetting the dates as index "
   ]
  },
  {
   "cell_type": "code",
   "execution_count": 8,
   "id": "f0818765",
   "metadata": {},
   "outputs": [],
   "source": [
    "logins= logins.set_index('login_time')"
   ]
  },
  {
   "cell_type": "code",
   "execution_count": 9,
   "id": "005cd2c3",
   "metadata": {},
   "outputs": [
    {
     "data": {
      "text/html": [
       "<div>\n",
       "<style scoped>\n",
       "    .dataframe tbody tr th:only-of-type {\n",
       "        vertical-align: middle;\n",
       "    }\n",
       "\n",
       "    .dataframe tbody tr th {\n",
       "        vertical-align: top;\n",
       "    }\n",
       "\n",
       "    .dataframe thead th {\n",
       "        text-align: right;\n",
       "    }\n",
       "</style>\n",
       "<table border=\"1\" class=\"dataframe\">\n",
       "  <thead>\n",
       "    <tr style=\"text-align: right;\">\n",
       "      <th></th>\n",
       "    </tr>\n",
       "    <tr>\n",
       "      <th>login_time</th>\n",
       "    </tr>\n",
       "  </thead>\n",
       "  <tbody>\n",
       "    <tr>\n",
       "      <th>1970-01-01 20:13:18</th>\n",
       "    </tr>\n",
       "    <tr>\n",
       "      <th>1970-01-01 20:16:10</th>\n",
       "    </tr>\n",
       "    <tr>\n",
       "      <th>1970-01-01 20:16:37</th>\n",
       "    </tr>\n",
       "    <tr>\n",
       "      <th>1970-01-01 20:16:36</th>\n",
       "    </tr>\n",
       "    <tr>\n",
       "      <th>1970-01-01 20:26:21</th>\n",
       "    </tr>\n",
       "  </tbody>\n",
       "</table>\n",
       "</div>"
      ],
      "text/plain": [
       "Empty DataFrame\n",
       "Columns: []\n",
       "Index: [1970-01-01 20:13:18, 1970-01-01 20:16:10, 1970-01-01 20:16:37, 1970-01-01 20:16:36, 1970-01-01 20:26:21]"
      ]
     },
     "execution_count": 9,
     "metadata": {},
     "output_type": "execute_result"
    }
   ],
   "source": [
    "logins.head()"
   ]
  },
  {
   "cell_type": "code",
   "execution_count": 10,
   "id": "828bfd40",
   "metadata": {},
   "outputs": [],
   "source": [
    "# Crearting a coulmn to count the number of logins, it will be 1 for each data point \n",
    "\n",
    "logins['login_count'] = 1"
   ]
  },
  {
   "cell_type": "code",
   "execution_count": 11,
   "id": "90b43f5e",
   "metadata": {},
   "outputs": [
    {
     "data": {
      "text/html": [
       "<div>\n",
       "<style scoped>\n",
       "    .dataframe tbody tr th:only-of-type {\n",
       "        vertical-align: middle;\n",
       "    }\n",
       "\n",
       "    .dataframe tbody tr th {\n",
       "        vertical-align: top;\n",
       "    }\n",
       "\n",
       "    .dataframe thead th {\n",
       "        text-align: right;\n",
       "    }\n",
       "</style>\n",
       "<table border=\"1\" class=\"dataframe\">\n",
       "  <thead>\n",
       "    <tr style=\"text-align: right;\">\n",
       "      <th></th>\n",
       "      <th>login_count</th>\n",
       "    </tr>\n",
       "    <tr>\n",
       "      <th>login_time</th>\n",
       "      <th></th>\n",
       "    </tr>\n",
       "  </thead>\n",
       "  <tbody>\n",
       "    <tr>\n",
       "      <th>1970-01-01 20:13:18</th>\n",
       "      <td>1</td>\n",
       "    </tr>\n",
       "    <tr>\n",
       "      <th>1970-01-01 20:16:10</th>\n",
       "      <td>1</td>\n",
       "    </tr>\n",
       "    <tr>\n",
       "      <th>1970-01-01 20:16:37</th>\n",
       "      <td>1</td>\n",
       "    </tr>\n",
       "    <tr>\n",
       "      <th>1970-01-01 20:16:36</th>\n",
       "      <td>1</td>\n",
       "    </tr>\n",
       "    <tr>\n",
       "      <th>1970-01-01 20:26:21</th>\n",
       "      <td>1</td>\n",
       "    </tr>\n",
       "  </tbody>\n",
       "</table>\n",
       "</div>"
      ],
      "text/plain": [
       "                     login_count\n",
       "login_time                      \n",
       "1970-01-01 20:13:18            1\n",
       "1970-01-01 20:16:10            1\n",
       "1970-01-01 20:16:37            1\n",
       "1970-01-01 20:16:36            1\n",
       "1970-01-01 20:26:21            1"
      ]
     },
     "execution_count": 11,
     "metadata": {},
     "output_type": "execute_result"
    }
   ],
   "source": [
    "logins.head()"
   ]
  },
  {
   "cell_type": "code",
   "execution_count": 12,
   "id": "4b0c32ca",
   "metadata": {},
   "outputs": [],
   "source": [
    "# resample the index, so that time is represented in 15 min chunks\n",
    "logins_delta15 = logins.resample('15Min').sum()"
   ]
  },
  {
   "cell_type": "code",
   "execution_count": 13,
   "id": "9823bf6b",
   "metadata": {},
   "outputs": [
    {
     "data": {
      "text/html": [
       "<div>\n",
       "<style scoped>\n",
       "    .dataframe tbody tr th:only-of-type {\n",
       "        vertical-align: middle;\n",
       "    }\n",
       "\n",
       "    .dataframe tbody tr th {\n",
       "        vertical-align: top;\n",
       "    }\n",
       "\n",
       "    .dataframe thead th {\n",
       "        text-align: right;\n",
       "    }\n",
       "</style>\n",
       "<table border=\"1\" class=\"dataframe\">\n",
       "  <thead>\n",
       "    <tr style=\"text-align: right;\">\n",
       "      <th></th>\n",
       "      <th>login_count</th>\n",
       "    </tr>\n",
       "    <tr>\n",
       "      <th>login_time</th>\n",
       "      <th></th>\n",
       "    </tr>\n",
       "  </thead>\n",
       "  <tbody>\n",
       "    <tr>\n",
       "      <th>1970-01-01 20:00:00</th>\n",
       "      <td>2</td>\n",
       "    </tr>\n",
       "    <tr>\n",
       "      <th>1970-01-01 20:15:00</th>\n",
       "      <td>6</td>\n",
       "    </tr>\n",
       "    <tr>\n",
       "      <th>1970-01-01 20:30:00</th>\n",
       "      <td>9</td>\n",
       "    </tr>\n",
       "    <tr>\n",
       "      <th>1970-01-01 20:45:00</th>\n",
       "      <td>7</td>\n",
       "    </tr>\n",
       "    <tr>\n",
       "      <th>1970-01-01 21:00:00</th>\n",
       "      <td>1</td>\n",
       "    </tr>\n",
       "  </tbody>\n",
       "</table>\n",
       "</div>"
      ],
      "text/plain": [
       "                     login_count\n",
       "login_time                      \n",
       "1970-01-01 20:00:00            2\n",
       "1970-01-01 20:15:00            6\n",
       "1970-01-01 20:30:00            9\n",
       "1970-01-01 20:45:00            7\n",
       "1970-01-01 21:00:00            1"
      ]
     },
     "execution_count": 13,
     "metadata": {},
     "output_type": "execute_result"
    }
   ],
   "source": [
    "logins_delta15.head()"
   ]
  },
  {
   "cell_type": "code",
   "execution_count": 14,
   "id": "cc5e10e4",
   "metadata": {},
   "outputs": [
    {
     "data": {
      "image/png": "[encoded data removed]",
      "text/plain": [
       "<Figure size 1080x360 with 1 Axes>"
      ]
     },
     "metadata": {
      "needs_background": "light"
     },
     "output_type": "display_data"
    }
   ],
   "source": [
    "fig, ax = plt.subplots(figsize = (15,5))\n",
    "plt.xlabel('Time')\n",
    "plt.ylabel('Number of Logins')\n",
    "plt.tight_layout()\n",
    "plt.title('Logins vs Time')\n",
    "# puts the data in the figure\n",
    "plt.plot(logins_delta15.index, logins_delta15.login_count);"
   ]
  },
  {
   "cell_type": "markdown",
   "id": "250f800f",
   "metadata": {},
   "source": [
    "###### There is a cyclic pattern in the data but it's hard to see at this scale. We need to look at larger scales.  "
   ]
  },
  {
   "cell_type": "code",
   "execution_count": 15,
   "id": "29db63f2",
   "metadata": {},
   "outputs": [],
   "source": [
    "# aggregating data based on daily, business day (M-F), fridays, saturdays, and sundays\n",
    "logins_daily = logins.resample('D').sum()\n",
    "logins_biz_day = logins.resample('B').sum()\n",
    "fridays = logins.resample('W-FRI').sum()\n",
    "saturdays = logins.resample('W-SAT').sum()\n",
    "sundays = logins.resample('W-SUN').sum()"
   ]
  },
  {
   "cell_type": "code",
   "execution_count": 16,
   "id": "9e3da84e",
   "metadata": {},
   "outputs": [
    {
     "name": "stderr",
     "output_type": "stream",
     "text": [
      "C:\\Users\\msale\\AppData\\Local\\Temp/ipykernel_27492/1161273615.py:4: MatplotlibDeprecationWarning: Case-insensitive properties were deprecated in 3.3 and support will be removed two minor releases later\n",
      "  plt.title('Logins over Time for different cases', Fontsize = 22)\n"
     ]
    },
    {
     "data": {
      "image/png": "[encoded data removed]",
      "text/plain": [
       "<Figure size 1080x720 with 1 Axes>"
      ]
     },
     "metadata": {
      "needs_background": "light"
     },
     "output_type": "display_data"
    }
   ],
   "source": [
    "fig, ax = plt.subplots(figsize = (15,10))\n",
    "plt.xlabel('Time', fontsize = 22)\n",
    "plt.ylabel('Number of Logins', fontsize = 22)\n",
    "plt.title('Logins over Time for different cases', Fontsize = 22)\n",
    "\n",
    "plt.bar(fridays.index, fridays.login_count, align= 'center', width = 0.1, label = \"Fridays\", color = 'r')\n",
    "plt.bar(saturdays.index, saturdays.login_count, label = 'Saturday', align = 'center', width = 0.1, color = 'Black')\n",
    "plt.bar(sundays.index, sundays.login_count, label = \"Sundays\", align= 'center', width = 0.1, color = 'b')\n",
    "plt.plot(logins_daily.index, logins_daily.login_count, label = 'Daily Frequencies')\n",
    "plt.scatter(logins_biz_day.index, logins_biz_day.login_count, label='Weekdays')\n",
    "\n",
    "plt.legend(loc='upper left', fontsize = 16)\n",
    "plt.tight_layout()"
   ]
  },
  {
   "cell_type": "markdown",
   "id": "95ba8082",
   "metadata": {},
   "source": [
    "#### The figure above shows that Friday has the most logins # and the weekends are busier than the weekdays. "
   ]
  },
  {
   "cell_type": "markdown",
   "id": "cd5f20f7",
   "metadata": {},
   "source": [
    "###### Looking at the hourly trends by day of week"
   ]
  },
  {
   "cell_type": "code",
   "execution_count": 17,
   "id": "414b4d15",
   "metadata": {},
   "outputs": [],
   "source": [
    "# resample index hourly\n",
    "daily_logins = logins.resample('H').sum()\n",
    "\n",
    "# create a column that identify the day of week; Monday=0, Sunday=0\n",
    "day_of_week = list(daily_logins.index.dayofweek)\n",
    "daily_logins['day_of_week'] = day_of_week\n",
    "\n",
    "# add a column with just the hour (omiting the date)\n",
    "daily_logins['hour'] = [time.hour for time in daily_logins.index]"
   ]
  },
  {
   "cell_type": "code",
   "execution_count": 18,
   "id": "72269d36",
   "metadata": {},
   "outputs": [],
   "source": [
    "# create dataframe with the average number of logins for each hour of each day\n",
    "avg_hourly_logins = pd.pivot_table(daily_logins, values = 'login_count', index = 'hour', columns = 'day_of_week', aggfunc=np.mean).rename(columns= {0:'Monday',1:'Tuesday',2:'Wednesday',3:'Thursday',4:'Friday',5:'Saturday',6:'Sunday'})\n",
    "# stack\n",
    "avg_hourly_logins = avg_hourly_logins.stack(level=['day_of_week'])\n",
    "# name the stack\n",
    "avg_hourly_logins.name = 'avg_num_logins'\n",
    "avg_hourly_logins_df = avg_hourly_logins.reset_index()"
   ]
  },
  {
   "cell_type": "code",
   "execution_count": 19,
   "id": "85b99c99",
   "metadata": {},
   "outputs": [
    {
     "data": {
      "image/png": "[encoded data removed]",
      "text/plain": [
       "<Figure size 1347.84x576 with 1 Axes>"
      ]
     },
     "metadata": {
      "needs_background": "light"
     },
     "output_type": "display_data"
    }
   ],
   "source": [
    "# plot average hourly use\n",
    "sns.catplot(x='hour', y='avg_num_logins', data=avg_hourly_logins_df, kind = 'bar', \n",
    "            hue='day_of_week',height=8, aspect=11.7/5, legend=False)\n",
    "ax = plt.gca()\n",
    "ax.set_title('Average Logins per Hour', fontsize = 26)\n",
    "ax.set_xlabel('Hour (24-hour clock)', fontsize = 26)\n",
    "ax.set_ylabel('Average Number of Logins', fontsize = 26)\n",
    "ax.tick_params(labelsize=20,labelcolor=\"black\")\n",
    "ax.legend(bbox_to_anchor=(0.7,0.7,0.1, 0.2),fontsize=20);"
   ]
  },
  {
   "cell_type": "markdown",
   "id": "78ae34a1",
   "metadata": {},
   "source": [
    "###### The figure above shows the most logins occurs during the early hours (1 AM - 5 AM) on Saturdays and Sundays. During the weekdays there are spikes in logins during lunch hours (11 am to noon), and in the evening (9 PM - 11 PM), with Fridays evenings (21-23) shows the most logins. "
   ]
  },
  {
   "cell_type": "markdown",
   "id": "8e3e6ed4",
   "metadata": {},
   "source": [
    "### Part 2 ‑ Experiment and metrics design\n",
    "The neighboring cities of Gotham and Metropolis have complementary circadian rhythms: on weekdays, Ultimate Gotham is most active at night, and Ultimate Metropolis is most active during the day. On weekends, there is reasonable activity in both cities.\n",
    "\n",
    "However, a toll bridge, with a two-way toll, between the two cities causes driver partners to tend to be exclusive to each city. The Ultimate managers of city operations for the two cities have proposed an experiment to encourage driver partners to be available in both cities, by reimbursing all toll costs.\n",
    "\n",
    "  1) What would you choose as the key measure of success of this experiment in encouraging driver partners to serve both           cities, and why would you choose this metric?\n",
    "  2) Describe a practical experiment you would design to compare the effectiveness of the proposed change in relation to           the key measure of success. Please provide details on:\n",
    "                                   how you will implement the experiment?\n",
    "                                   what statistical test(s) you will conduct to verify the significance of the observation?\n",
    "                                   how you would interpret the results and provide recommendations to the city operations team                                      along with any caveats."
   ]
  },
  {
   "cell_type": "markdown",
   "id": "f7e441b9",
   "metadata": {},
   "source": [
    "To choose a key measure of success, I am assuming there is system in place to keep track of the number of cars that use the bridge in both directions. To get reimbursed, partner drivers would also need a record of crossing. We also need to make sure there is historical record of data on bridge use before implementing the change.   \n",
    "\n",
    "\n",
    "The key metric I would choose is change in weekday activity (two cities having opposite trends during weekdays). Of particualr interest, we want to see if during the daytime hours (6 am - 6 pm) on weekdays, is there an increase of cars entering the bridge from Gotham (where driver partners are active at night) AND during the nighttime hours (7 pm - 5 am) on weekdays is there an increase of cars entering the bridge from Metropolis (where driver partners are active at day). I choose these metrics based on the above assumptions, and they can be easily measured. \n",
    "\n",
    "In order to answer the above questions I would use **two hypothesis tests**:\n",
    "\n",
    "1) \n",
    "H0_1: There is no difference between the mean number of cars entering the bridge from Gotham during weekdays between the hours of 6 am and 6 pm, three weeks before reimbursements went into effect and the mean number of cars three weeks after reimbursements were offered.\n",
    "\n",
    "H1_1: There is an INCREASE in the mean number of cars entering the bridge from Gotham during weekdays between 6 am and 6 pm, three weeks before reimbursements went into effect and the mean number of cars three weeks after reimbursements were offered.\n",
    "\n",
    "2) \n",
    "H0_2: There is no difference between the mean number of cars entering the bridge from Metropolis during weekdays between 7 pm and 5 am, three weeks before reimbursements went into effect and the mean number of cars three weeks after reimbursements were offered.\n",
    "\n",
    "H1_2: There is an INCREASE in the mean number of cars entering the bridge from Metropolis during weekdays between 7 pm and 5 am, three weeks before reimbursements went into effect and the mean number of cars three weeks after reimbursements were offered.\n",
    "\n",
    "I would use a **one-tailed t-test** to determine the p-value of each hypothesis.\n",
    "\n",
    "If the p-value is less than 0.05 for BOTH tests I would reject the null hypotheses and recommend the reimbursement program continue, with the condition that the study should be repeated in a near future with more data.\n",
    "\n",
    "If the p-value is greater than 0.05 for BOTH tests I would fail to reject the null hypotheses and recommend that a different program be developed to increase partner driving between the two cities.\n",
    "\n",
    "If the p-value is mixed, so only one hypothesis has a p-value less than 0.05 I would recommend that the analysis is inconclusive and that further investigation is needed."
   ]
  },
  {
   "cell_type": "markdown",
   "id": "00f0e5ba",
   "metadata": {},
   "source": [
    "### Part 3 ‑ Predictive modeling\n",
    "Ultimate is interested in predicting rider retention. To help explore this question, we have provided a sample dataset of a cohort of users who signed up for an Ultimate account in January 2014. The data was pulled several months later; we consider a user retained if they were “active” (i.e. took a trip) in the preceding 30 days.\n",
    "\n",
    "We would like you to use this data set to help understand what factors are the best predictors for retention, and offer suggestions to operationalize those insights to help Ultimate.\n",
    "\n",
    "The data is in the attached file ultimate_data_challenge.json.\n",
    "\n",
    "        Perform any cleaning, exploratory analysis, and/or visualizations to use the provided data for this analysis (a few \n",
    "        sentences/plots describing your approach will suffice). What fraction of the observed users were retained?\n",
    "        \n",
    "        Build a predictive model to help Ultimate determine whether or not a user will be active in their 6th month on the \n",
    "        system. Discuss why you chose your approach, what alternatives you considered, and any concerns you have. How   \n",
    "        valid is your model? Include any key indicators of model performance.\n",
    "        \n",
    "        Briefly discuss how Ultimate might leverage the insights gained from the model to improve its long term rider \n",
    "        retention (again, a few sentences will suffice).\n",
    "\n",
    "\n",
    "**Assumptions Made**\n",
    "The date of when the data was pulled is not given, so we cannot tell if they had a trip in the 30 days before that date, nor is a user ID given. Thus, I will assume:\n",
    "\n",
    "    That the most recent trip taken was the day the data was pulled\n",
    "    Each row represents a summary of a unique user"
   ]
  },
  {
   "cell_type": "code",
   "execution_count": 58,
   "id": "ea88b313",
   "metadata": {},
   "outputs": [],
   "source": [
    "# load data\n",
    "with open('ultimate_data_challenge.json') as f:\n",
    "    data = json.load(f)\n",
    "\n",
    "# put data info pandas dataframe\n",
    "user_data = pd.DataFrame(data)"
   ]
  },
  {
   "cell_type": "code",
   "execution_count": 59,
   "id": "cabdf119",
   "metadata": {},
   "outputs": [
    {
     "data": {
      "text/html": [
       "<div>\n",
       "<style scoped>\n",
       "    .dataframe tbody tr th:only-of-type {\n",
       "        vertical-align: middle;\n",
       "    }\n",
       "\n",
       "    .dataframe tbody tr th {\n",
       "        vertical-align: top;\n",
       "    }\n",
       "\n",
       "    .dataframe thead th {\n",
       "        text-align: right;\n",
       "    }\n",
       "</style>\n",
       "<table border=\"1\" class=\"dataframe\">\n",
       "  <thead>\n",
       "    <tr style=\"text-align: right;\">\n",
       "      <th></th>\n",
       "      <th>city</th>\n",
       "      <th>trips_in_first_30_days</th>\n",
       "      <th>signup_date</th>\n",
       "      <th>avg_rating_of_driver</th>\n",
       "      <th>avg_surge</th>\n",
       "      <th>last_trip_date</th>\n",
       "      <th>phone</th>\n",
       "      <th>surge_pct</th>\n",
       "      <th>ultimate_black_user</th>\n",
       "      <th>weekday_pct</th>\n",
       "      <th>avg_dist</th>\n",
       "      <th>avg_rating_by_driver</th>\n",
       "    </tr>\n",
       "  </thead>\n",
       "  <tbody>\n",
       "    <tr>\n",
       "      <th>0</th>\n",
       "      <td>King's Landing</td>\n",
       "      <td>4</td>\n",
       "      <td>2014-01-25</td>\n",
       "      <td>4.7</td>\n",
       "      <td>1.10</td>\n",
       "      <td>2014-06-17</td>\n",
       "      <td>iPhone</td>\n",
       "      <td>15.4</td>\n",
       "      <td>True</td>\n",
       "      <td>46.2</td>\n",
       "      <td>3.67</td>\n",
       "      <td>5.0</td>\n",
       "    </tr>\n",
       "    <tr>\n",
       "      <th>1</th>\n",
       "      <td>Astapor</td>\n",
       "      <td>0</td>\n",
       "      <td>2014-01-29</td>\n",
       "      <td>5.0</td>\n",
       "      <td>1.00</td>\n",
       "      <td>2014-05-05</td>\n",
       "      <td>Android</td>\n",
       "      <td>0.0</td>\n",
       "      <td>False</td>\n",
       "      <td>50.0</td>\n",
       "      <td>8.26</td>\n",
       "      <td>5.0</td>\n",
       "    </tr>\n",
       "    <tr>\n",
       "      <th>2</th>\n",
       "      <td>Astapor</td>\n",
       "      <td>3</td>\n",
       "      <td>2014-01-06</td>\n",
       "      <td>4.3</td>\n",
       "      <td>1.00</td>\n",
       "      <td>2014-01-07</td>\n",
       "      <td>iPhone</td>\n",
       "      <td>0.0</td>\n",
       "      <td>False</td>\n",
       "      <td>100.0</td>\n",
       "      <td>0.77</td>\n",
       "      <td>5.0</td>\n",
       "    </tr>\n",
       "    <tr>\n",
       "      <th>3</th>\n",
       "      <td>King's Landing</td>\n",
       "      <td>9</td>\n",
       "      <td>2014-01-10</td>\n",
       "      <td>4.6</td>\n",
       "      <td>1.14</td>\n",
       "      <td>2014-06-29</td>\n",
       "      <td>iPhone</td>\n",
       "      <td>20.0</td>\n",
       "      <td>True</td>\n",
       "      <td>80.0</td>\n",
       "      <td>2.36</td>\n",
       "      <td>4.9</td>\n",
       "    </tr>\n",
       "    <tr>\n",
       "      <th>4</th>\n",
       "      <td>Winterfell</td>\n",
       "      <td>14</td>\n",
       "      <td>2014-01-27</td>\n",
       "      <td>4.4</td>\n",
       "      <td>1.19</td>\n",
       "      <td>2014-03-15</td>\n",
       "      <td>Android</td>\n",
       "      <td>11.8</td>\n",
       "      <td>False</td>\n",
       "      <td>82.4</td>\n",
       "      <td>3.13</td>\n",
       "      <td>4.9</td>\n",
       "    </tr>\n",
       "  </tbody>\n",
       "</table>\n",
       "</div>"
      ],
      "text/plain": [
       "             city  trips_in_first_30_days signup_date  avg_rating_of_driver  \\\n",
       "0  King's Landing                       4  2014-01-25                   4.7   \n",
       "1         Astapor                       0  2014-01-29                   5.0   \n",
       "2         Astapor                       3  2014-01-06                   4.3   \n",
       "3  King's Landing                       9  2014-01-10                   4.6   \n",
       "4      Winterfell                      14  2014-01-27                   4.4   \n",
       "\n",
       "   avg_surge last_trip_date    phone  surge_pct  ultimate_black_user  \\\n",
       "0       1.10     2014-06-17   iPhone       15.4                 True   \n",
       "1       1.00     2014-05-05  Android        0.0                False   \n",
       "2       1.00     2014-01-07   iPhone        0.0                False   \n",
       "3       1.14     2014-06-29   iPhone       20.0                 True   \n",
       "4       1.19     2014-03-15  Android       11.8                False   \n",
       "\n",
       "   weekday_pct  avg_dist  avg_rating_by_driver  \n",
       "0         46.2      3.67                   5.0  \n",
       "1         50.0      8.26                   5.0  \n",
       "2        100.0      0.77                   5.0  \n",
       "3         80.0      2.36                   4.9  \n",
       "4         82.4      3.13                   4.9  "
      ]
     },
     "execution_count": 59,
     "metadata": {},
     "output_type": "execute_result"
    }
   ],
   "source": [
    "user_data.head()"
   ]
  },
  {
   "cell_type": "code",
   "execution_count": 60,
   "id": "c8b4e45f",
   "metadata": {},
   "outputs": [
    {
     "name": "stdout",
     "output_type": "stream",
     "text": [
      "<class 'pandas.core.frame.DataFrame'>\n",
      "RangeIndex: 50000 entries, 0 to 49999\n",
      "Data columns (total 12 columns):\n",
      " #   Column                  Non-Null Count  Dtype  \n",
      "---  ------                  --------------  -----  \n",
      " 0   city                    50000 non-null  object \n",
      " 1   trips_in_first_30_days  50000 non-null  int64  \n",
      " 2   signup_date             50000 non-null  object \n",
      " 3   avg_rating_of_driver    41878 non-null  float64\n",
      " 4   avg_surge               50000 non-null  float64\n",
      " 5   last_trip_date          50000 non-null  object \n",
      " 6   phone                   49604 non-null  object \n",
      " 7   surge_pct               50000 non-null  float64\n",
      " 8   ultimate_black_user     50000 non-null  bool   \n",
      " 9   weekday_pct             50000 non-null  float64\n",
      " 10  avg_dist                50000 non-null  float64\n",
      " 11  avg_rating_by_driver    49799 non-null  float64\n",
      "dtypes: bool(1), float64(6), int64(1), object(4)\n",
      "memory usage: 4.2+ MB\n"
     ]
    }
   ],
   "source": [
    "user_data.info() # dates are objects "
   ]
  },
  {
   "cell_type": "code",
   "execution_count": 65,
   "id": "9d4ff6c9",
   "metadata": {},
   "outputs": [],
   "source": [
    "# convert dates to datetime objects\n",
    "user_data['signup_date'] = pd.to_datetime(user_data['signup_date'])\n",
    "user_data['last_trip_date'] = pd.to_datetime(user_data['last_trip_date'])"
   ]
  },
  {
   "cell_type": "code",
   "execution_count": 66,
   "id": "261adfeb",
   "metadata": {},
   "outputs": [
    {
     "data": {
      "text/plain": [
       "Timestamp('2014-07-01 00:00:00')"
      ]
     },
     "execution_count": 66,
     "metadata": {},
     "output_type": "execute_result"
    }
   ],
   "source": [
    "# find the date the data was pulled\n",
    "pull_date = user_data.last_trip_date.max()\n",
    "pull_date  # seems data was pulled on July 1st "
   ]
  },
  {
   "cell_type": "code",
   "execution_count": 67,
   "id": "b2b9f49f",
   "metadata": {},
   "outputs": [],
   "source": [
    "# determine 30 days previous to the pull day   \n",
    "# we consider a user retained if they were “active” (i.e. took a trip) in the preceding 30 days\n",
    "cut_off_day = pull_date - pd.Timedelta('30 days')"
   ]
  },
  {
   "cell_type": "code",
   "execution_count": 69,
   "id": "cbb206c8",
   "metadata": {},
   "outputs": [],
   "source": [
    "# add active status to dataframe  0= inactive, 1 = active\n",
    "user_data['active_status'] = (user_data.last_trip_date > cut_off_day).astype('int')\n"
   ]
  },
  {
   "cell_type": "code",
   "execution_count": 70,
   "id": "d8ffbada",
   "metadata": {},
   "outputs": [],
   "source": [
    "user_data[\"ultimate_black_user\"] = user_data[\"ultimate_black_user\"].astype(int)"
   ]
  },
  {
   "cell_type": "code",
   "execution_count": 71,
   "id": "a835ae6d",
   "metadata": {},
   "outputs": [
    {
     "data": {
      "text/html": [
       "<div>\n",
       "<style scoped>\n",
       "    .dataframe tbody tr th:only-of-type {\n",
       "        vertical-align: middle;\n",
       "    }\n",
       "\n",
       "    .dataframe tbody tr th {\n",
       "        vertical-align: top;\n",
       "    }\n",
       "\n",
       "    .dataframe thead th {\n",
       "        text-align: right;\n",
       "    }\n",
       "</style>\n",
       "<table border=\"1\" class=\"dataframe\">\n",
       "  <thead>\n",
       "    <tr style=\"text-align: right;\">\n",
       "      <th></th>\n",
       "      <th>city</th>\n",
       "      <th>trips_in_first_30_days</th>\n",
       "      <th>signup_date</th>\n",
       "      <th>avg_rating_of_driver</th>\n",
       "      <th>avg_surge</th>\n",
       "      <th>last_trip_date</th>\n",
       "      <th>phone</th>\n",
       "      <th>surge_pct</th>\n",
       "      <th>ultimate_black_user</th>\n",
       "      <th>weekday_pct</th>\n",
       "      <th>avg_dist</th>\n",
       "      <th>avg_rating_by_driver</th>\n",
       "      <th>active_status</th>\n",
       "    </tr>\n",
       "  </thead>\n",
       "  <tbody>\n",
       "    <tr>\n",
       "      <th>0</th>\n",
       "      <td>King's Landing</td>\n",
       "      <td>4</td>\n",
       "      <td>2014-01-25</td>\n",
       "      <td>4.7</td>\n",
       "      <td>1.10</td>\n",
       "      <td>2014-06-17</td>\n",
       "      <td>iPhone</td>\n",
       "      <td>15.4</td>\n",
       "      <td>1</td>\n",
       "      <td>46.2</td>\n",
       "      <td>3.67</td>\n",
       "      <td>5.0</td>\n",
       "      <td>1</td>\n",
       "    </tr>\n",
       "    <tr>\n",
       "      <th>1</th>\n",
       "      <td>Astapor</td>\n",
       "      <td>0</td>\n",
       "      <td>2014-01-29</td>\n",
       "      <td>5.0</td>\n",
       "      <td>1.00</td>\n",
       "      <td>2014-05-05</td>\n",
       "      <td>Android</td>\n",
       "      <td>0.0</td>\n",
       "      <td>0</td>\n",
       "      <td>50.0</td>\n",
       "      <td>8.26</td>\n",
       "      <td>5.0</td>\n",
       "      <td>0</td>\n",
       "    </tr>\n",
       "    <tr>\n",
       "      <th>2</th>\n",
       "      <td>Astapor</td>\n",
       "      <td>3</td>\n",
       "      <td>2014-01-06</td>\n",
       "      <td>4.3</td>\n",
       "      <td>1.00</td>\n",
       "      <td>2014-01-07</td>\n",
       "      <td>iPhone</td>\n",
       "      <td>0.0</td>\n",
       "      <td>0</td>\n",
       "      <td>100.0</td>\n",
       "      <td>0.77</td>\n",
       "      <td>5.0</td>\n",
       "      <td>0</td>\n",
       "    </tr>\n",
       "    <tr>\n",
       "      <th>3</th>\n",
       "      <td>King's Landing</td>\n",
       "      <td>9</td>\n",
       "      <td>2014-01-10</td>\n",
       "      <td>4.6</td>\n",
       "      <td>1.14</td>\n",
       "      <td>2014-06-29</td>\n",
       "      <td>iPhone</td>\n",
       "      <td>20.0</td>\n",
       "      <td>1</td>\n",
       "      <td>80.0</td>\n",
       "      <td>2.36</td>\n",
       "      <td>4.9</td>\n",
       "      <td>1</td>\n",
       "    </tr>\n",
       "    <tr>\n",
       "      <th>4</th>\n",
       "      <td>Winterfell</td>\n",
       "      <td>14</td>\n",
       "      <td>2014-01-27</td>\n",
       "      <td>4.4</td>\n",
       "      <td>1.19</td>\n",
       "      <td>2014-03-15</td>\n",
       "      <td>Android</td>\n",
       "      <td>11.8</td>\n",
       "      <td>0</td>\n",
       "      <td>82.4</td>\n",
       "      <td>3.13</td>\n",
       "      <td>4.9</td>\n",
       "      <td>0</td>\n",
       "    </tr>\n",
       "  </tbody>\n",
       "</table>\n",
       "</div>"
      ],
      "text/plain": [
       "             city  trips_in_first_30_days signup_date  avg_rating_of_driver  \\\n",
       "0  King's Landing                       4  2014-01-25                   4.7   \n",
       "1         Astapor                       0  2014-01-29                   5.0   \n",
       "2         Astapor                       3  2014-01-06                   4.3   \n",
       "3  King's Landing                       9  2014-01-10                   4.6   \n",
       "4      Winterfell                      14  2014-01-27                   4.4   \n",
       "\n",
       "   avg_surge last_trip_date    phone  surge_pct  ultimate_black_user  \\\n",
       "0       1.10     2014-06-17   iPhone       15.4                    1   \n",
       "1       1.00     2014-05-05  Android        0.0                    0   \n",
       "2       1.00     2014-01-07   iPhone        0.0                    0   \n",
       "3       1.14     2014-06-29   iPhone       20.0                    1   \n",
       "4       1.19     2014-03-15  Android       11.8                    0   \n",
       "\n",
       "   weekday_pct  avg_dist  avg_rating_by_driver  active_status  \n",
       "0         46.2      3.67                   5.0              1  \n",
       "1         50.0      8.26                   5.0              0  \n",
       "2        100.0      0.77                   5.0              0  \n",
       "3         80.0      2.36                   4.9              1  \n",
       "4         82.4      3.13                   4.9              0  "
      ]
     },
     "execution_count": 71,
     "metadata": {},
     "output_type": "execute_result"
    }
   ],
   "source": [
    "user_data.head()"
   ]
  },
  {
   "cell_type": "code",
   "execution_count": 72,
   "id": "9f6f39fd",
   "metadata": {},
   "outputs": [
    {
     "data": {
      "text/plain": [
       "city                         0\n",
       "trips_in_first_30_days       0\n",
       "signup_date                  0\n",
       "avg_rating_of_driver      8122\n",
       "avg_surge                    0\n",
       "last_trip_date               0\n",
       "phone                      396\n",
       "surge_pct                    0\n",
       "ultimate_black_user          0\n",
       "weekday_pct                  0\n",
       "avg_dist                     0\n",
       "avg_rating_by_driver       201\n",
       "active_status                0\n",
       "dtype: int64"
      ]
     },
     "execution_count": 72,
     "metadata": {},
     "output_type": "execute_result"
    }
   ],
   "source": [
    "user_data.isnull().sum() "
   ]
  },
  {
   "cell_type": "markdown",
   "id": "417d724c",
   "metadata": {},
   "source": [
    "###### There are missing values, espicially for avg_rating_of_driver (over 8000 counts)"
   ]
  },
  {
   "cell_type": "code",
   "execution_count": 73,
   "id": "29dca550",
   "metadata": {},
   "outputs": [],
   "source": [
    "user_data.dropna(inplace=True)   # dropping NaN values "
   ]
  },
  {
   "cell_type": "code",
   "execution_count": 74,
   "id": "7440bd95",
   "metadata": {},
   "outputs": [
    {
     "data": {
      "text/plain": [
       "array([\"King's Landing\", 'Astapor', 'Winterfell'], dtype=object)"
      ]
     },
     "execution_count": 74,
     "metadata": {},
     "output_type": "execute_result"
    }
   ],
   "source": [
    "uniqueCities = user_data['city'].unique()  # checking the variaty of cities \n",
    "uniqueCities"
   ]
  },
  {
   "cell_type": "code",
   "execution_count": 75,
   "id": "72e11c59",
   "metadata": {},
   "outputs": [
    {
     "data": {
      "text/plain": [
       "array(['iPhone', 'Android'], dtype=object)"
      ]
     },
     "execution_count": 75,
     "metadata": {},
     "output_type": "execute_result"
    }
   ],
   "source": [
    " uniquePhones = user_data['phone'].unique() \n",
    "uniquePhones"
   ]
  },
  {
   "cell_type": "code",
   "execution_count": 76,
   "id": "726cc5a3",
   "metadata": {},
   "outputs": [],
   "source": [
    "# add dummies to categorical data city and phone \n",
    "user_data = pd.get_dummies(user_data, columns = ['city', 'phone'])"
   ]
  },
  {
   "cell_type": "code",
   "execution_count": 80,
   "id": "26411e79",
   "metadata": {},
   "outputs": [
    {
     "data": {
      "text/html": [
       "<div>\n",
       "<style scoped>\n",
       "    .dataframe tbody tr th:only-of-type {\n",
       "        vertical-align: middle;\n",
       "    }\n",
       "\n",
       "    .dataframe tbody tr th {\n",
       "        vertical-align: top;\n",
       "    }\n",
       "\n",
       "    .dataframe thead th {\n",
       "        text-align: right;\n",
       "    }\n",
       "</style>\n",
       "<table border=\"1\" class=\"dataframe\">\n",
       "  <thead>\n",
       "    <tr style=\"text-align: right;\">\n",
       "      <th></th>\n",
       "      <th>trips_in_first_30_days</th>\n",
       "      <th>signup_date</th>\n",
       "      <th>avg_rating_of_driver</th>\n",
       "      <th>avg_surge</th>\n",
       "      <th>last_trip_date</th>\n",
       "      <th>surge_pct</th>\n",
       "      <th>ultimate_black_user</th>\n",
       "      <th>weekday_pct</th>\n",
       "      <th>avg_dist</th>\n",
       "      <th>avg_rating_by_driver</th>\n",
       "      <th>active_status</th>\n",
       "      <th>city_Astapor</th>\n",
       "      <th>city_King's Landing</th>\n",
       "      <th>city_Winterfell</th>\n",
       "      <th>phone_Android</th>\n",
       "      <th>phone_iPhone</th>\n",
       "    </tr>\n",
       "  </thead>\n",
       "  <tbody>\n",
       "    <tr>\n",
       "      <th>0</th>\n",
       "      <td>4</td>\n",
       "      <td>2014-01-25</td>\n",
       "      <td>4.7</td>\n",
       "      <td>1.10</td>\n",
       "      <td>2014-06-17</td>\n",
       "      <td>15.4</td>\n",
       "      <td>1</td>\n",
       "      <td>46.2</td>\n",
       "      <td>3.67</td>\n",
       "      <td>5.0</td>\n",
       "      <td>1</td>\n",
       "      <td>0</td>\n",
       "      <td>1</td>\n",
       "      <td>0</td>\n",
       "      <td>0</td>\n",
       "      <td>1</td>\n",
       "    </tr>\n",
       "    <tr>\n",
       "      <th>1</th>\n",
       "      <td>0</td>\n",
       "      <td>2014-01-29</td>\n",
       "      <td>5.0</td>\n",
       "      <td>1.00</td>\n",
       "      <td>2014-05-05</td>\n",
       "      <td>0.0</td>\n",
       "      <td>0</td>\n",
       "      <td>50.0</td>\n",
       "      <td>8.26</td>\n",
       "      <td>5.0</td>\n",
       "      <td>0</td>\n",
       "      <td>1</td>\n",
       "      <td>0</td>\n",
       "      <td>0</td>\n",
       "      <td>1</td>\n",
       "      <td>0</td>\n",
       "    </tr>\n",
       "    <tr>\n",
       "      <th>2</th>\n",
       "      <td>3</td>\n",
       "      <td>2014-01-06</td>\n",
       "      <td>4.3</td>\n",
       "      <td>1.00</td>\n",
       "      <td>2014-01-07</td>\n",
       "      <td>0.0</td>\n",
       "      <td>0</td>\n",
       "      <td>100.0</td>\n",
       "      <td>0.77</td>\n",
       "      <td>5.0</td>\n",
       "      <td>0</td>\n",
       "      <td>1</td>\n",
       "      <td>0</td>\n",
       "      <td>0</td>\n",
       "      <td>0</td>\n",
       "      <td>1</td>\n",
       "    </tr>\n",
       "    <tr>\n",
       "      <th>3</th>\n",
       "      <td>9</td>\n",
       "      <td>2014-01-10</td>\n",
       "      <td>4.6</td>\n",
       "      <td>1.14</td>\n",
       "      <td>2014-06-29</td>\n",
       "      <td>20.0</td>\n",
       "      <td>1</td>\n",
       "      <td>80.0</td>\n",
       "      <td>2.36</td>\n",
       "      <td>4.9</td>\n",
       "      <td>1</td>\n",
       "      <td>0</td>\n",
       "      <td>1</td>\n",
       "      <td>0</td>\n",
       "      <td>0</td>\n",
       "      <td>1</td>\n",
       "    </tr>\n",
       "    <tr>\n",
       "      <th>4</th>\n",
       "      <td>14</td>\n",
       "      <td>2014-01-27</td>\n",
       "      <td>4.4</td>\n",
       "      <td>1.19</td>\n",
       "      <td>2014-03-15</td>\n",
       "      <td>11.8</td>\n",
       "      <td>0</td>\n",
       "      <td>82.4</td>\n",
       "      <td>3.13</td>\n",
       "      <td>4.9</td>\n",
       "      <td>0</td>\n",
       "      <td>0</td>\n",
       "      <td>0</td>\n",
       "      <td>1</td>\n",
       "      <td>1</td>\n",
       "      <td>0</td>\n",
       "    </tr>\n",
       "  </tbody>\n",
       "</table>\n",
       "</div>"
      ],
      "text/plain": [
       "   trips_in_first_30_days signup_date  avg_rating_of_driver  avg_surge  \\\n",
       "0                       4  2014-01-25                   4.7       1.10   \n",
       "1                       0  2014-01-29                   5.0       1.00   \n",
       "2                       3  2014-01-06                   4.3       1.00   \n",
       "3                       9  2014-01-10                   4.6       1.14   \n",
       "4                      14  2014-01-27                   4.4       1.19   \n",
       "\n",
       "  last_trip_date  surge_pct  ultimate_black_user  weekday_pct  avg_dist  \\\n",
       "0     2014-06-17       15.4                    1         46.2      3.67   \n",
       "1     2014-05-05        0.0                    0         50.0      8.26   \n",
       "2     2014-01-07        0.0                    0        100.0      0.77   \n",
       "3     2014-06-29       20.0                    1         80.0      2.36   \n",
       "4     2014-03-15       11.8                    0         82.4      3.13   \n",
       "\n",
       "   avg_rating_by_driver  active_status  city_Astapor  city_King's Landing  \\\n",
       "0                   5.0              1             0                    1   \n",
       "1                   5.0              0             1                    0   \n",
       "2                   5.0              0             1                    0   \n",
       "3                   4.9              1             0                    1   \n",
       "4                   4.9              0             0                    0   \n",
       "\n",
       "   city_Winterfell  phone_Android  phone_iPhone  \n",
       "0                0              0             1  \n",
       "1                0              1             0  \n",
       "2                0              0             1  \n",
       "3                0              0             1  \n",
       "4                1              1             0  "
      ]
     },
     "execution_count": 80,
     "metadata": {},
     "output_type": "execute_result"
    }
   ],
   "source": [
    "user_data.head()  # all features are numerical "
   ]
  },
  {
   "cell_type": "code",
   "execution_count": 81,
   "id": "15da67e9",
   "metadata": {},
   "outputs": [],
   "source": [
    "#separate the active and inactive users\n",
    "active_user = user_data[user_data.active_status == 1]\n",
    "inactive_user = user_data[user_data.active_status == 0]"
   ]
  },
  {
   "cell_type": "code",
   "execution_count": 82,
   "id": "1dae0226",
   "metadata": {},
   "outputs": [
    {
     "name": "stdout",
     "output_type": "stream",
     "text": [
      "40.07 percent of users were retained.\n"
     ]
    }
   ],
   "source": [
    "# fraction of the observed users that were retained\n",
    "fraction = round((len(active_user.active_status)/len(user_data.active_status)) * 100, 2)\n",
    "print('{} percent of users were retained.'.format(fraction))"
   ]
  },
  {
   "cell_type": "code",
   "execution_count": 83,
   "id": "47d4aeab",
   "metadata": {},
   "outputs": [
    {
     "data": {
      "text/plain": [
       "Index(['trips_in_first_30_days', 'signup_date', 'avg_rating_of_driver',\n",
       "       'avg_surge', 'last_trip_date', 'surge_pct', 'ultimate_black_user',\n",
       "       'weekday_pct', 'avg_dist', 'avg_rating_by_driver', 'active_status',\n",
       "       'city_Astapor', 'city_King's Landing', 'city_Winterfell',\n",
       "       'phone_Android', 'phone_iPhone'],\n",
       "      dtype='object')"
      ]
     },
     "execution_count": 83,
     "metadata": {},
     "output_type": "execute_result"
    }
   ],
   "source": [
    "user_data.columns"
   ]
  },
  {
   "cell_type": "code",
   "execution_count": 84,
   "id": "6b393234",
   "metadata": {},
   "outputs": [],
   "source": [
    "# calculating mean and standard deviation for each feature for active and inactive users\n",
    "feature_columns = ['avg_dist', 'avg_rating_by_driver', 'avg_rating_of_driver', 'avg_surge',\n",
    " 'surge_pct', 'ultimate_black_user', 'weekday_pct', 'city_Astapor',\n",
    " \"city_King's Landing\", 'city_Winterfell', 'phone_Android','phone_iPhone']\n",
    "stats_dict = {}\n",
    "for col in feature_columns:\n",
    "    stats_dict[col] = [active_user[col].mean(), active_user[col].std(),\n",
    "                       inactive_user[col].mean(),inactive_user[col].std()]"
   ]
  },
  {
   "cell_type": "code",
   "execution_count": 85,
   "id": "58f7c8af",
   "metadata": {},
   "outputs": [],
   "source": [
    "# create a dataframe of the statistics\n",
    "stats_df = pd.DataFrame.from_dict(stats_dict, orient='index').rename(columns = {0:'active_mean', 1:'active_std', 2:'inactive_mean', 3:'inactive_std'})"
   ]
  },
  {
   "cell_type": "code",
   "execution_count": 86,
   "id": "436acb01",
   "metadata": {},
   "outputs": [
    {
     "data": {
      "text/html": [
       "<div>\n",
       "<style scoped>\n",
       "    .dataframe tbody tr th:only-of-type {\n",
       "        vertical-align: middle;\n",
       "    }\n",
       "\n",
       "    .dataframe tbody tr th {\n",
       "        vertical-align: top;\n",
       "    }\n",
       "\n",
       "    .dataframe thead th {\n",
       "        text-align: right;\n",
       "    }\n",
       "</style>\n",
       "<table border=\"1\" class=\"dataframe\">\n",
       "  <thead>\n",
       "    <tr style=\"text-align: right;\">\n",
       "      <th></th>\n",
       "      <th>active_mean</th>\n",
       "      <th>active_std</th>\n",
       "      <th>inactive_mean</th>\n",
       "      <th>inactive_std</th>\n",
       "    </tr>\n",
       "  </thead>\n",
       "  <tbody>\n",
       "    <tr>\n",
       "      <th>avg_dist</th>\n",
       "      <td>4.914539</td>\n",
       "      <td>4.135179</td>\n",
       "      <td>5.824816</td>\n",
       "      <td>5.692917</td>\n",
       "    </tr>\n",
       "    <tr>\n",
       "      <th>avg_rating_by_driver</th>\n",
       "      <td>4.759387</td>\n",
       "      <td>0.293452</td>\n",
       "      <td>4.787853</td>\n",
       "      <td>0.463974</td>\n",
       "    </tr>\n",
       "    <tr>\n",
       "      <th>avg_rating_of_driver</th>\n",
       "      <td>4.593497</td>\n",
       "      <td>0.538174</td>\n",
       "      <td>4.607219</td>\n",
       "      <td>0.663079</td>\n",
       "    </tr>\n",
       "    <tr>\n",
       "      <th>avg_surge</th>\n",
       "      <td>1.072629</td>\n",
       "      <td>0.142464</td>\n",
       "      <td>1.074619</td>\n",
       "      <td>0.228783</td>\n",
       "    </tr>\n",
       "    <tr>\n",
       "      <th>surge_pct</th>\n",
       "      <td>9.109694</td>\n",
       "      <td>14.045947</td>\n",
       "      <td>8.757628</td>\n",
       "      <td>20.693270</td>\n",
       "    </tr>\n",
       "    <tr>\n",
       "      <th>ultimate_black_user</th>\n",
       "      <td>0.516257</td>\n",
       "      <td>0.499751</td>\n",
       "      <td>0.295728</td>\n",
       "      <td>0.456379</td>\n",
       "    </tr>\n",
       "    <tr>\n",
       "      <th>weekday_pct</th>\n",
       "      <td>62.385814</td>\n",
       "      <td>27.251023</td>\n",
       "      <td>60.498675</td>\n",
       "      <td>39.044695</td>\n",
       "    </tr>\n",
       "    <tr>\n",
       "      <th>city_Astapor</th>\n",
       "      <td>0.219412</td>\n",
       "      <td>0.413861</td>\n",
       "      <td>0.397190</td>\n",
       "      <td>0.489326</td>\n",
       "    </tr>\n",
       "    <tr>\n",
       "      <th>city_King's Landing</th>\n",
       "      <td>0.342425</td>\n",
       "      <td>0.474535</td>\n",
       "      <td>0.124331</td>\n",
       "      <td>0.329965</td>\n",
       "    </tr>\n",
       "    <tr>\n",
       "      <th>city_Winterfell</th>\n",
       "      <td>0.438162</td>\n",
       "      <td>0.496176</td>\n",
       "      <td>0.478480</td>\n",
       "      <td>0.499547</td>\n",
       "    </tr>\n",
       "    <tr>\n",
       "      <th>phone_Android</th>\n",
       "      <td>0.158538</td>\n",
       "      <td>0.365256</td>\n",
       "      <td>0.380883</td>\n",
       "      <td>0.485614</td>\n",
       "    </tr>\n",
       "    <tr>\n",
       "      <th>phone_iPhone</th>\n",
       "      <td>0.841462</td>\n",
       "      <td>0.365256</td>\n",
       "      <td>0.619117</td>\n",
       "      <td>0.485614</td>\n",
       "    </tr>\n",
       "  </tbody>\n",
       "</table>\n",
       "</div>"
      ],
      "text/plain": [
       "                      active_mean  active_std  inactive_mean  inactive_std\n",
       "avg_dist                 4.914539    4.135179       5.824816      5.692917\n",
       "avg_rating_by_driver     4.759387    0.293452       4.787853      0.463974\n",
       "avg_rating_of_driver     4.593497    0.538174       4.607219      0.663079\n",
       "avg_surge                1.072629    0.142464       1.074619      0.228783\n",
       "surge_pct                9.109694   14.045947       8.757628     20.693270\n",
       "ultimate_black_user      0.516257    0.499751       0.295728      0.456379\n",
       "weekday_pct             62.385814   27.251023      60.498675     39.044695\n",
       "city_Astapor             0.219412    0.413861       0.397190      0.489326\n",
       "city_King's Landing      0.342425    0.474535       0.124331      0.329965\n",
       "city_Winterfell          0.438162    0.496176       0.478480      0.499547\n",
       "phone_Android            0.158538    0.365256       0.380883      0.485614\n",
       "phone_iPhone             0.841462    0.365256       0.619117      0.485614"
      ]
     },
     "execution_count": 86,
     "metadata": {},
     "output_type": "execute_result"
    }
   ],
   "source": [
    "stats_df"
   ]
  },
  {
   "cell_type": "code",
   "execution_count": 87,
   "id": "c80df549",
   "metadata": {},
   "outputs": [
    {
     "data": {
      "image/png": "[encoded data removed]",
      "text/plain": [
       "<Figure size 1080x432 with 1 Axes>"
      ]
     },
     "metadata": {
      "needs_background": "light"
     },
     "output_type": "display_data"
    }
   ],
   "source": [
    "# visualize the statistics\n",
    "stats_df[['active_mean', 'inactive_mean']].plot(kind = 'bar', yerr=stats_df[['active_std','inactive_std']], figsize = (15,6), fontsize = 15)\n",
    "plt.xlabel('Features',fontsize = 20)\n",
    "plt.ylabel('Mean', fontsize = 20)\n",
    "plt.title('Average of Features for Active and Inactive Users', fontsize = 20);"
   ]
  },
  {
   "cell_type": "markdown",
   "id": "82d5f640",
   "metadata": {},
   "source": [
    "##### The figure above shows there is not a significant difference between the average of the features for active and inactive users."
   ]
  },
  {
   "cell_type": "markdown",
   "id": "1f2a3c2d",
   "metadata": {},
   "source": [
    "##### Model using XGBClassifier"
   ]
  },
  {
   "cell_type": "code",
   "execution_count": 88,
   "id": "2e534e07",
   "metadata": {},
   "outputs": [],
   "source": [
    "# define features and target variables\n",
    "X = user_data[feature_columns]  # we are not using all the features here \n",
    "y = user_data['active_status']"
   ]
  },
  {
   "cell_type": "code",
   "execution_count": 89,
   "id": "a29030ed",
   "metadata": {},
   "outputs": [
    {
     "data": {
      "text/html": [
       "<div>\n",
       "<style scoped>\n",
       "    .dataframe tbody tr th:only-of-type {\n",
       "        vertical-align: middle;\n",
       "    }\n",
       "\n",
       "    .dataframe tbody tr th {\n",
       "        vertical-align: top;\n",
       "    }\n",
       "\n",
       "    .dataframe thead th {\n",
       "        text-align: right;\n",
       "    }\n",
       "</style>\n",
       "<table border=\"1\" class=\"dataframe\">\n",
       "  <thead>\n",
       "    <tr style=\"text-align: right;\">\n",
       "      <th></th>\n",
       "      <th>avg_dist</th>\n",
       "      <th>avg_rating_by_driver</th>\n",
       "      <th>avg_rating_of_driver</th>\n",
       "      <th>avg_surge</th>\n",
       "      <th>surge_pct</th>\n",
       "      <th>ultimate_black_user</th>\n",
       "      <th>weekday_pct</th>\n",
       "      <th>city_Astapor</th>\n",
       "      <th>city_King's Landing</th>\n",
       "      <th>city_Winterfell</th>\n",
       "      <th>phone_Android</th>\n",
       "      <th>phone_iPhone</th>\n",
       "    </tr>\n",
       "  </thead>\n",
       "  <tbody>\n",
       "    <tr>\n",
       "      <th>0</th>\n",
       "      <td>3.67</td>\n",
       "      <td>5.0</td>\n",
       "      <td>4.7</td>\n",
       "      <td>1.10</td>\n",
       "      <td>15.4</td>\n",
       "      <td>1</td>\n",
       "      <td>46.2</td>\n",
       "      <td>0</td>\n",
       "      <td>1</td>\n",
       "      <td>0</td>\n",
       "      <td>0</td>\n",
       "      <td>1</td>\n",
       "    </tr>\n",
       "    <tr>\n",
       "      <th>1</th>\n",
       "      <td>8.26</td>\n",
       "      <td>5.0</td>\n",
       "      <td>5.0</td>\n",
       "      <td>1.00</td>\n",
       "      <td>0.0</td>\n",
       "      <td>0</td>\n",
       "      <td>50.0</td>\n",
       "      <td>1</td>\n",
       "      <td>0</td>\n",
       "      <td>0</td>\n",
       "      <td>1</td>\n",
       "      <td>0</td>\n",
       "    </tr>\n",
       "    <tr>\n",
       "      <th>2</th>\n",
       "      <td>0.77</td>\n",
       "      <td>5.0</td>\n",
       "      <td>4.3</td>\n",
       "      <td>1.00</td>\n",
       "      <td>0.0</td>\n",
       "      <td>0</td>\n",
       "      <td>100.0</td>\n",
       "      <td>1</td>\n",
       "      <td>0</td>\n",
       "      <td>0</td>\n",
       "      <td>0</td>\n",
       "      <td>1</td>\n",
       "    </tr>\n",
       "    <tr>\n",
       "      <th>3</th>\n",
       "      <td>2.36</td>\n",
       "      <td>4.9</td>\n",
       "      <td>4.6</td>\n",
       "      <td>1.14</td>\n",
       "      <td>20.0</td>\n",
       "      <td>1</td>\n",
       "      <td>80.0</td>\n",
       "      <td>0</td>\n",
       "      <td>1</td>\n",
       "      <td>0</td>\n",
       "      <td>0</td>\n",
       "      <td>1</td>\n",
       "    </tr>\n",
       "    <tr>\n",
       "      <th>4</th>\n",
       "      <td>3.13</td>\n",
       "      <td>4.9</td>\n",
       "      <td>4.4</td>\n",
       "      <td>1.19</td>\n",
       "      <td>11.8</td>\n",
       "      <td>0</td>\n",
       "      <td>82.4</td>\n",
       "      <td>0</td>\n",
       "      <td>0</td>\n",
       "      <td>1</td>\n",
       "      <td>1</td>\n",
       "      <td>0</td>\n",
       "    </tr>\n",
       "  </tbody>\n",
       "</table>\n",
       "</div>"
      ],
      "text/plain": [
       "   avg_dist  avg_rating_by_driver  avg_rating_of_driver  avg_surge  surge_pct  \\\n",
       "0      3.67                   5.0                   4.7       1.10       15.4   \n",
       "1      8.26                   5.0                   5.0       1.00        0.0   \n",
       "2      0.77                   5.0                   4.3       1.00        0.0   \n",
       "3      2.36                   4.9                   4.6       1.14       20.0   \n",
       "4      3.13                   4.9                   4.4       1.19       11.8   \n",
       "\n",
       "   ultimate_black_user  weekday_pct  city_Astapor  city_King's Landing  \\\n",
       "0                    1         46.2             0                    1   \n",
       "1                    0         50.0             1                    0   \n",
       "2                    0        100.0             1                    0   \n",
       "3                    1         80.0             0                    1   \n",
       "4                    0         82.4             0                    0   \n",
       "\n",
       "   city_Winterfell  phone_Android  phone_iPhone  \n",
       "0                0              0             1  \n",
       "1                0              1             0  \n",
       "2                0              0             1  \n",
       "3                0              0             1  \n",
       "4                1              1             0  "
      ]
     },
     "execution_count": 89,
     "metadata": {},
     "output_type": "execute_result"
    }
   ],
   "source": [
    "X.head()"
   ]
  },
  {
   "cell_type": "code",
   "execution_count": 90,
   "id": "34ca41cb",
   "metadata": {},
   "outputs": [
    {
     "data": {
      "text/plain": [
       "0    1\n",
       "1    0\n",
       "2    0\n",
       "3    1\n",
       "4    0\n",
       "Name: active_status, dtype: int32"
      ]
     },
     "execution_count": 90,
     "metadata": {},
     "output_type": "execute_result"
    }
   ],
   "source": [
    "y.head()"
   ]
  },
  {
   "cell_type": "code",
   "execution_count": 91,
   "id": "6dec5db9",
   "metadata": {},
   "outputs": [],
   "source": [
    "# split training and test data\n",
    "X_train, X_test, y_train, y_test = train_test_split(X,y, test_size=0.3, random_state=42)"
   ]
  },
  {
   "cell_type": "markdown",
   "id": "08fb909e",
   "metadata": {},
   "source": [
    "split data into training and test sets\n",
    "optimize hyperparameters using the training set and random crossfold validation\n",
    "validate using an unoptimized model AND the test set\n",
    "train optimized model using the entire feature set"
   ]
  },
  {
   "cell_type": "code",
   "execution_count": 92,
   "id": "38756b7c",
   "metadata": {},
   "outputs": [],
   "source": [
    "# instantiate base classifier \n",
    "xg_clf = XGBClassifier(verbosity =0, objective = 'binary:logistic',random_state = 42)"
   ]
  },
  {
   "cell_type": "code",
   "execution_count": 93,
   "id": "e85cee18",
   "metadata": {},
   "outputs": [
    {
     "data": {
      "text/plain": [
       "XGBClassifier(base_score=0.5, booster='gbtree', callbacks=None,\n",
       "              colsample_bylevel=1, colsample_bynode=1, colsample_bytree=1,\n",
       "              early_stopping_rounds=None, enable_categorical=False,\n",
       "              eval_metric=None, gamma=0, gpu_id=-1, grow_policy='depthwise',\n",
       "              importance_type=None, interaction_constraints='',\n",
       "              learning_rate=0.300000012, max_bin=256, max_cat_to_onehot=4,\n",
       "              max_delta_step=0, max_depth=6, max_leaves=0, min_child_weight=1,\n",
       "              missing=nan, monotone_constraints='()', n_estimators=100,\n",
       "              n_jobs=0, num_parallel_tree=1, predictor='auto', random_state=42,\n",
       "              reg_alpha=0, reg_lambda=1, ...)"
      ]
     },
     "execution_count": 93,
     "metadata": {},
     "output_type": "execute_result"
    }
   ],
   "source": [
    "# train base classifier\n",
    "xg_clf.fit(X_train, y_train)"
   ]
  },
  {
   "cell_type": "code",
   "execution_count": 94,
   "id": "94db9274",
   "metadata": {},
   "outputs": [
    {
     "name": "stdout",
     "output_type": "stream",
     "text": [
      "The accuracy of the base classifier on training set is 0.8355.\n"
     ]
    }
   ],
   "source": [
    "# predict the labels on training set \n",
    "y_pred = xg_clf.predict(X_train)\n",
    "# score model\n",
    "score = accuracy_score(y_train, y_pred)\n",
    "# print accuracy\n",
    "print(\"The accuracy of the base classifier on training set is {}.\".format(round(score,4)))"
   ]
  },
  {
   "cell_type": "code",
   "execution_count": 95,
   "id": "185c21e5",
   "metadata": {},
   "outputs": [
    {
     "name": "stdout",
     "output_type": "stream",
     "text": [
      "The accuracy of the base classifier for the test set is 0.772.\n"
     ]
    }
   ],
   "source": [
    "# predict the labels on test set \n",
    "y_test_pred = xg_clf.predict(X_test)\n",
    "\n",
    "# score model\n",
    "test_score = accuracy_score(y_test, y_test_pred)\n",
    "# print accuracy\n",
    "print(\"The accuracy of the base classifier for the test set is {}.\".format(round(test_score,4)))"
   ]
  },
  {
   "cell_type": "markdown",
   "id": "4ee2a4a5",
   "metadata": {},
   "source": [
    "###### Optimizing the model "
   ]
  },
  {
   "cell_type": "code",
   "execution_count": 96,
   "id": "41247313",
   "metadata": {},
   "outputs": [],
   "source": [
    "parameters = {\n",
    "    'max_delta_step':[0,0.05],\n",
    "    'scale_pos_weight':[0.95, 0.8],\n",
    "    'subsample':[0.5,0.75,1.0],\n",
    "    'learning_rate': [0.2, 0.1, 0.05],\n",
    "    'min_child_weight':[0,1,2],\n",
    "    'gamma':[1, 2, 3],\n",
    "    'max_depth': [6,8,10]\n",
    "    }"
   ]
  },
  {
   "cell_type": "code",
   "execution_count": 97,
   "id": "2f1cef25",
   "metadata": {},
   "outputs": [],
   "source": [
    "from sklearn.model_selection import RepeatedKFold"
   ]
  },
  {
   "cell_type": "code",
   "execution_count": 98,
   "id": "577e6830",
   "metadata": {},
   "outputs": [],
   "source": [
    "# Random GridSearch \n",
    "cv = RepeatedKFold(n_splits= 3, n_repeats=1, random_state=42)\n",
    "grid_search = RandomizedSearchCV(estimator = xg_clf, param_distributions = parameters, n_iter = 100, cv = cv, verbose=2, random_state=42, n_jobs = -1)"
   ]
  },
  {
   "cell_type": "code",
   "execution_count": 99,
   "id": "105dcf2e",
   "metadata": {},
   "outputs": [
    {
     "name": "stdout",
     "output_type": "stream",
     "text": [
      "Fitting 3 folds for each of 100 candidates, totalling 300 fits\n"
     ]
    },
    {
     "data": {
      "text/plain": [
       "RandomizedSearchCV(cv=RepeatedKFold(n_repeats=1, n_splits=3, random_state=42),\n",
       "                   estimator=XGBClassifier(base_score=0.5, booster='gbtree',\n",
       "                                           callbacks=None, colsample_bylevel=1,\n",
       "                                           colsample_bynode=1,\n",
       "                                           colsample_bytree=1,\n",
       "                                           early_stopping_rounds=None,\n",
       "                                           enable_categorical=False,\n",
       "                                           eval_metric=None, gamma=0, gpu_id=-1,\n",
       "                                           grow_policy='depthwise',\n",
       "                                           importance_type=None,\n",
       "                                           interaction_c...\n",
       "                                           n_estimators=100, n_jobs=0,\n",
       "                                           num_parallel_tree=1,\n",
       "                                           predictor='auto', random_state=42,\n",
       "                                           reg_alpha=0, reg_lambda=1, ...),\n",
       "                   n_iter=100, n_jobs=-1,\n",
       "                   param_distributions={'gamma': [1, 2, 3],\n",
       "                                        'learning_rate': [0.2, 0.1, 0.05],\n",
       "                                        'max_delta_step': [0, 0.05],\n",
       "                                        'max_depth': [6, 8, 10],\n",
       "                                        'min_child_weight': [0, 1, 2],\n",
       "                                        'scale_pos_weight': [0.95, 0.8],\n",
       "                                        'subsample': [0.5, 0.75, 1.0]},\n",
       "                   random_state=42, verbose=2)"
      ]
     },
     "execution_count": 99,
     "metadata": {},
     "output_type": "execute_result"
    }
   ],
   "source": [
    "grid_search.fit(X_train,y_train)"
   ]
  },
  {
   "cell_type": "code",
   "execution_count": 100,
   "id": "5e98eb50",
   "metadata": {},
   "outputs": [
    {
     "name": "stdout",
     "output_type": "stream",
     "text": [
      "{'subsample': 0.75, 'scale_pos_weight': 0.95, 'min_child_weight': 1, 'max_depth': 8, 'max_delta_step': 0, 'learning_rate': 0.05, 'gamma': 3}\n",
      "0.7793596965108996\n"
     ]
    }
   ],
   "source": [
    "# Print best parameters and results\n",
    "print(grid_search.best_params_)\n",
    "print(grid_search.best_score_)"
   ]
  },
  {
   "cell_type": "code",
   "execution_count": 101,
   "id": "48f05335",
   "metadata": {},
   "outputs": [],
   "source": [
    "# optimized parameters\n",
    "optimized_parameters = {'objective':'binary:logistic',\n",
    "                        'verbosity': 0,\n",
    "                        'random_state': 42,\n",
    "                        'subsample': 0.75, \n",
    "                        'scale_pos_weight': 0.95, \n",
    "                        'min_child_weight': 1, \n",
    "                        'max_depth': 8, \n",
    "                        'max_delta_step': 0, \n",
    "                        'learning_rate': 0.05, \n",
    "                        'gamma': 3\n",
    "                       }"
   ]
  },
  {
   "cell_type": "code",
   "execution_count": 102,
   "id": "f3053235",
   "metadata": {},
   "outputs": [
    {
     "data": {
      "text/plain": [
       "XGBClassifier(base_score=0.5, booster='gbtree', callbacks=None,\n",
       "              colsample_bylevel=1, colsample_bynode=1, colsample_bytree=1,\n",
       "              early_stopping_rounds=None, enable_categorical=False,\n",
       "              eval_metric=None, gamma=3, gpu_id=-1, grow_policy='depthwise',\n",
       "              importance_type=None, interaction_constraints='',\n",
       "              learning_rate=0.05, max_bin=256, max_cat_to_onehot=4,\n",
       "              max_delta_step=0, max_depth=8, max_leaves=0, min_child_weight=1,\n",
       "              missing=nan, monotone_constraints='()', n_estimators=100,\n",
       "              n_jobs=0, num_parallel_tree=1, predictor='auto', random_state=42,\n",
       "              reg_alpha=0, reg_lambda=1, ...)"
      ]
     },
     "execution_count": 102,
     "metadata": {},
     "output_type": "execute_result"
    }
   ],
   "source": [
    "# instantiate optimized classifier\n",
    "xg_clf_opt = XGBClassifier(**optimized_parameters)\n",
    "xg_clf_opt.fit(X_train, y_train)"
   ]
  },
  {
   "cell_type": "code",
   "execution_count": 103,
   "id": "ca6a1c37",
   "metadata": {},
   "outputs": [
    {
     "name": "stdout",
     "output_type": "stream",
     "text": [
      "The resulting accuracy of the optimized classifier is 0.811.\n"
     ]
    }
   ],
   "source": [
    "# predict the labels on training set \n",
    "y_opt_pred = xg_clf_opt.predict(X_train)\n",
    "# score model\n",
    "score = accuracy_score(y_train, y_opt_pred)\n",
    "# print accuracy\n",
    "print(\"The resulting accuracy of the optimized classifier is {}.\".format(round(score,4)))"
   ]
  },
  {
   "cell_type": "code",
   "execution_count": 104,
   "id": "76fd2e36",
   "metadata": {},
   "outputs": [
    {
     "name": "stdout",
     "output_type": "stream",
     "text": [
      "The resulting accuracy of the optimized classifier for the test set is 0.7805.\n"
     ]
    }
   ],
   "source": [
    "# predict the labels on test set \n",
    "y_opt_test = xg_clf_opt.predict(X_test)\n",
    "# score model\n",
    "test_score = accuracy_score(y_test, y_opt_test)\n",
    "# print accuracy\n",
    "print(\"The resulting accuracy of the optimized classifier for the test set is {}.\".format(round(test_score,4)))"
   ]
  },
  {
   "cell_type": "markdown",
   "id": "01b8254d",
   "metadata": {},
   "source": [
    "#### The optimized model performs worse with the training set, but performs marginally better on test set. Therefore, I will train the final model with all of the data using the optimized values"
   ]
  },
  {
   "cell_type": "code",
   "execution_count": 109,
   "id": "55fffce5",
   "metadata": {},
   "outputs": [],
   "source": [
    "# instantiate classifier\n",
    "xg_clf_final = XGBClassifier(**optimized_parameters)"
   ]
  },
  {
   "cell_type": "code",
   "execution_count": 114,
   "id": "a444df69",
   "metadata": {},
   "outputs": [
    {
     "data": {
      "text/plain": [
       "XGBClassifier(base_score=0.5, booster='gbtree', callbacks=None,\n",
       "              colsample_bylevel=1, colsample_bynode=1, colsample_bytree=1,\n",
       "              early_stopping_rounds=None, enable_categorical=False,\n",
       "              eval_metric=None, gamma=3, gpu_id=-1, grow_policy='depthwise',\n",
       "              importance_type=None, interaction_constraints='',\n",
       "              learning_rate=0.05, max_bin=256, max_cat_to_onehot=4,\n",
       "              max_delta_step=0, max_depth=8, max_leaves=0, min_child_weight=1,\n",
       "              missing=nan, monotone_constraints='()', n_estimators=100,\n",
       "              n_jobs=0, num_parallel_tree=1, predictor='auto', random_state=42,\n",
       "              reg_alpha=0, reg_lambda=1, ...)"
      ]
     },
     "execution_count": 114,
     "metadata": {},
     "output_type": "execute_result"
    }
   ],
   "source": [
    "# train final model on all data\n",
    "xg_clf_final.fit(X, y)"
   ]
  },
  {
   "cell_type": "code",
   "execution_count": 115,
   "id": "010e8fe5",
   "metadata": {},
   "outputs": [],
   "source": [
    "# save model\n",
    "pickle.dump(xg_clf_final, open('final_model.pickle', 'wb')) # this model can be used with an accuracy of 78% to predict whether or not a user will be active"
   ]
  },
  {
   "cell_type": "code",
   "execution_count": 116,
   "id": "8aa0c3f3",
   "metadata": {},
   "outputs": [
    {
     "data": {
      "image/png": "[encoded data removed]",
      "text/plain": [
       "<Figure size 432x288 with 1 Axes>"
      ]
     },
     "metadata": {
      "needs_background": "light"
     },
     "output_type": "display_data"
    }
   ],
   "source": [
    "plot_importance(xg_clf_final);"
   ]
  },
  {
   "cell_type": "markdown",
   "id": "64833fde",
   "metadata": {},
   "source": [
    "### Conclusions\n",
    "The default XGBoost model was the best model and resulted in a classification accuracy of 78% for the test data. The factors that impact rider retention the most are the average distance in miles per trip taken and the percent of the user's trips occuring during a weekday. "
   ]
  },
  {
   "cell_type": "markdown",
   "id": "68878e4c",
   "metadata": {},
   "source": [
    "For Ultimate to improve its long term rider retention, they can offer a discount for passengers that take a certian number of trips per week or if their average distance exceeds a set treshhold to encourage long term use and retention. "
   ]
  }
 ],
 "metadata": {
  "kernelspec": {
   "display_name": "Python 3 (ipykernel)",
   "language": "python",
   "name": "python3"
  },
  "language_info": {
   "codemirror_mode": {
    "name": "ipython",
    "version": 3
   },
   "file_extension": ".py",
   "mimetype": "text/x-python",
   "name": "python",
   "nbconvert_exporter": "python",
   "pygments_lexer": "ipython3",
   "version": "3.9.7"
  }
 },
 "nbformat": 4,
 "nbformat_minor": 5
}
